{
 "cells": [
  {
   "cell_type": "code",
   "execution_count": 6,
   "id": "7f3c058a",
   "metadata": {},
   "outputs": [
    {
     "name": "stdout",
     "output_type": "stream",
     "text": [
      "[1 2 3 4 5 6 7 8]\n",
      "[2 3 6 8]\n",
      "------------------------------------------------------------\n",
      "4\n",
      "------------------------------------------------------------\n",
      "[8 4 1 5]\n"
     ]
    }
   ],
   "source": [
    "# Fancy indexing\n",
    "\n",
    "import numpy as np\n",
    "\n",
    "arr1 = np.array([1, 2, 3, 4, 5, 6, 7, 8])\n",
    "print(arr1)\n",
    "\n",
    "# select elelments from the array\n",
    "print(arr1[[1, 2, 5, 7]])\n",
    "\n",
    "\n",
    "print(\"-\" * 60)\n",
    "# simple indexing\n",
    "print(arr1[3])\n",
    "\n",
    "print(\"-\" * 60)\n",
    "print(arr1[[7, 3, 0, 4]])\n",
    "\n"
   ]
  },
  {
   "cell_type": "code",
   "execution_count": 10,
   "id": "98e6852b",
   "metadata": {},
   "outputs": [
    {
     "name": "stdout",
     "output_type": "stream",
     "text": [
      "[3 8 1 5 7 2 4 6]\n",
      "------------------------------------------------------------\n",
      "[1 2 3 4 5 6 7 8]\n",
      "------------------------------------------------------------\n",
      "[8 7 6 5 4 3 2 1]\n"
     ]
    }
   ],
   "source": [
    "# sorting an numpy array\n",
    "\n",
    "arr1 = np.array([3, 8, 1, 5, 7, 2, 4, 6])\n",
    "print(arr1)\n",
    "\n",
    "# sort the given array in ascending order\n",
    "print(\"-\" * 60)\n",
    "res = arr1[np.argsort(arr1)]\n",
    "print(res)\n",
    "\n",
    "# sort the given array in descending order\n",
    "print(\"-\" * 60)\n",
    "res = arr1[np.argsort(-arr1)]\n",
    "print(res)\n",
    "\n"
   ]
  },
  {
   "cell_type": "code",
   "execution_count": 15,
   "id": "52467c1f",
   "metadata": {},
   "outputs": [
    {
     "name": "stdout",
     "output_type": "stream",
     "text": [
      "[3 8 1 5 7 2 4 6]\n",
      "------------------------------------------------------------\n",
      "[8 4 1 7]\n",
      "------------------------------------------------------------\n",
      "[ 3 80 10  5 70  2 40  6]\n"
     ]
    }
   ],
   "source": [
    "arr1 = np.array([3, 8, 1, 5, 7, 2, 4, 6])\n",
    "print(arr1)\n",
    "\n",
    "print(\"-\" * 60)\n",
    "indices = [1, 6, 2, 4]\n",
    "\n",
    "new_val = [80, 40, 10, 70]\n",
    "\n",
    "print(arr1[indices])\n",
    "\n",
    "arr1[indices] = new_val\n",
    "print(\"-\" * 60)\n",
    "\n",
    "print(arr1)"
   ]
  },
  {
   "cell_type": "code",
   "execution_count": 19,
   "id": "00509f9d",
   "metadata": {},
   "outputs": [
    {
     "name": "stdout",
     "output_type": "stream",
     "text": [
      "[[1 2 3]\n",
      " [4 5 6]\n",
      " [7 8 9]]\n",
      "------------------------------------------------------------\n",
      "[[1 2 3]\n",
      " [7 8 9]]\n"
     ]
    }
   ],
   "source": [
    "# n-dimension array\n",
    "\n",
    "arr1 = np.array([[1, 2, 3], \n",
    "                 [4, 5, 6], \n",
    "                 [7, 8, 9]])\n",
    "\n",
    "print(arr1)\n",
    "\n",
    "row_ind = np.array([0, 2])\n",
    "print(\"-\" * 60)\n",
    "\n",
    "sel_rows = arr1[row_ind, :]\n",
    "print(sel_rows)\n"
   ]
  }
 ],
 "metadata": {
  "kernelspec": {
   "display_name": "Python 3 (ipykernel)",
   "language": "python",
   "name": "python3"
  },
  "language_info": {
   "codemirror_mode": {
    "name": "ipython",
    "version": 3
   },
   "file_extension": ".py",
   "mimetype": "text/x-python",
   "name": "python",
   "nbconvert_exporter": "python",
   "pygments_lexer": "ipython3",
   "version": "3.11.4"
  }
 },
 "nbformat": 4,
 "nbformat_minor": 5
}
