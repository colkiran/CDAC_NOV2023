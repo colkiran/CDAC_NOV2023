{
 "cells": [
  {
   "cell_type": "code",
   "execution_count": 6,
   "id": "a09347d0",
   "metadata": {},
   "outputs": [
    {
     "name": "stdout",
     "output_type": "stream",
     "text": [
      "arr1 :[1 2 3]\n",
      "arr2 :[3 2 1]\n",
      "------------------------------------------------------------\n",
      "arr1 < arr2: [ True False False]\n",
      "arr1 > arr2 :[False False  True]\n",
      "arr1 == arr2 :[False  True False]\n"
     ]
    }
   ],
   "source": [
    "import numpy as np\n",
    "\n",
    "# NUMPY COMPARISON OPERATORS\n",
    "\n",
    "arr1 = np.array([1, 2, 3])\n",
    "arr2 = np.array([3, 2, 1])\n",
    "\n",
    "print(f\"arr1 :{arr1}\")\n",
    "print(f\"arr2 :{arr2}\")\n",
    "\n",
    "print(\"-\" * 60)\n",
    "\n",
    "# less than operator\n",
    "\n",
    "res = arr1 < arr2\n",
    "print(f\"arr1 < arr2: {res}\")\n",
    "\n",
    "\n",
    "# greater than operator\n",
    "res = arr1 > arr2\n",
    "print(f\"arr1 > arr2 :{res}\")\n",
    "\n",
    "# equal to operator\n",
    "res = arr1 == arr2\n",
    "print(f\"arr1 == arr2 :{res}\")\n"
   ]
  },
  {
   "cell_type": "code",
   "execution_count": 13,
   "id": "d16ef9b5",
   "metadata": {},
   "outputs": [
    {
     "name": "stdout",
     "output_type": "stream",
     "text": [
      "arr1 :[10 11 12]\n",
      "arr2 :[12 11 10]\n",
      "------------------------------------------------------------\n",
      "res :[ True False False]\n",
      "------------------------------------------------------------\n",
      "res :[ True  True False]\n"
     ]
    }
   ],
   "source": [
    "# COMPARISON FUNCTIONS\n",
    "\n",
    "arr1 = np.array([10, 11, 12])\n",
    "arr2 = np.array([12, 11, 10])\n",
    "\n",
    "print(f\"arr1 :{arr1}\")\n",
    "print(f\"arr2 :{arr2}\")\n",
    "\n",
    "print(\"-\" * 60)\n",
    "\n",
    "# less()\n",
    "res = np.less(arr1, arr2)\n",
    "print(f\"res :{res}\")\n",
    "\n",
    "# less_equal\n",
    "print(\"-\" * 60)\n",
    "res = np.less_equal(arr1, arr2)\n",
    "print(f\"res :{res}\")\n"
   ]
  },
  {
   "cell_type": "code",
   "execution_count": 20,
   "id": "3100c242",
   "metadata": {},
   "outputs": [
    {
     "name": "stdout",
     "output_type": "stream",
     "text": [
      "x1 :[ True False  True]\n",
      "x2 :[ True False False]\n",
      "------------------------------------------------------------\n",
      "AND(x1,x2) :[ True False False]\n",
      "------------------------------------------------------------\n",
      "OR(x1, x2) :[ True False  True]\n",
      "------------------------------------------------------------\n",
      "NOT(x1) :[False  True False]\n"
     ]
    }
   ],
   "source": [
    "# Logical operators\n",
    "\n",
    "x1 = np.array([True, False, True])\n",
    "x2 = np.array([True, False, False])\n",
    "\n",
    "print(f\"x1 :{x1}\")\n",
    "print(f\"x2 :{x2}\")\n",
    "\n",
    "print(\"-\" * 60)\n",
    "# logical AND\n",
    "print(f\"AND(x1,x2) :{np.logical_and(x1, x2)}\")\n",
    "\n",
    "print(\"-\" * 60)\n",
    "#Logical OR\n",
    "print(f\"OR(x1, x2) :{np.logical_or(x1, x2)}\")\n",
    "\n",
    "print(\"-\" * 60)\n",
    "# Logical NOT\n",
    "print(f\"NOT(x1) :{np.logical_not(x1)}\")"
   ]
  }
 ],
 "metadata": {
  "kernelspec": {
   "display_name": "Python 3 (ipykernel)",
   "language": "python",
   "name": "python3"
  },
  "language_info": {
   "codemirror_mode": {
    "name": "ipython",
    "version": 3
   },
   "file_extension": ".py",
   "mimetype": "text/x-python",
   "name": "python",
   "nbconvert_exporter": "python",
   "pygments_lexer": "ipython3",
   "version": "3.11.4"
  }
 },
 "nbformat": 4,
 "nbformat_minor": 5
}
