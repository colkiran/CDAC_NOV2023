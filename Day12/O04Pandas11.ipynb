{
 "cells": [
  {
   "cell_type": "code",
   "execution_count": 3,
   "id": "a2d347f1",
   "metadata": {},
   "outputs": [
    {
     "name": "stdout",
     "output_type": "stream",
     "text": [
      "The value if pi :3.141592653589793\n",
      "The value of Euler's Constant :2.718281828459045\n",
      "y :2.718281828459045\n"
     ]
    }
   ],
   "source": [
    "import numpy as np\n",
    "\n",
    "print(f\"The value if pi :{np.pi}\")\n",
    "\n",
    "print(f\"The value of Euler's Constant :{np.e}\")\n",
    "\n",
    "x = 1\n",
    "y = np.exp(x)\n",
    "print(f\"y :{y}\")"
   ]
  },
  {
   "cell_type": "code",
   "execution_count": 4,
   "id": "a6df0423",
   "metadata": {},
   "outputs": [
    {
     "name": "stdout",
     "output_type": "stream",
     "text": [
      "median :3.0\n",
      "arr2 :\n",
      "[[ 2  4  6]\n",
      " [ 8 10 12]\n",
      " [14 16 18]]\n",
      "------------------------------------------------------------\n",
      "Median along horizontal Axis :[ 4. 10. 16.]\n",
      "Median along vertical Axis :[ 8. 10. 12.]\n",
      "Median :10.0\n"
     ]
    }
   ],
   "source": [
    "# Standard deviation and Percentile functions\n",
    "\n",
    "arr1 = np.array([1, 2, 3, 4, 5])\n",
    "\n",
    "print(f\"median :{np.median(arr1)}\")\n",
    "\n",
    "arr2 = np.array([[2, 4, 6], \n",
    "                 [8, 10, 12],\n",
    "                 [14, 16, 18]])\n",
    "\n",
    "print(f\"arr2 :\\n{arr2}\")\n",
    "\n",
    "print(\"-\" * 60)\n",
    "\n",
    "res1 = np.median(arr2, axis=1)\n",
    "print(f\"Median along horizontal Axis :{res1}\")\n",
    "\n",
    "res2 = np.median(arr2, axis=0)\n",
    "print(f\"Median along vertical Axis :{res2}\")\n",
    "\n",
    "res3 = np.median(arr2)\n",
    "print(f\"Median :{res3}\")"
   ]
  },
  {
   "cell_type": "code",
   "execution_count": 11,
   "id": "e990e46a",
   "metadata": {},
   "outputs": [
    {
     "name": "stdout",
     "output_type": "stream",
     "text": [
      "arr1 :\n",
      "[[1 2]\n",
      " [3 4]]\n",
      "Mean is  :2.5\n",
      "------------------------------------------------------------\n",
      "Mean is :[2. 3.]\n",
      "------------------------------------------------------------\n",
      "Mean is :[1.5 3.5]\n"
     ]
    }
   ],
   "source": [
    "# mean function on 2D array\n",
    "\n",
    "arr1 = np.array([[1, 2],\n",
    "                 [3, 4]])\n",
    "\n",
    "print(f\"arr1 :\\n{arr1}\")\n",
    "\n",
    "res1 = np.mean(arr1)\n",
    "print(f\"Mean is  :{res1}\")\n",
    "\n",
    "print(\"-\" * 60)\n",
    "# calculate the mean vertical axis\n",
    "res2 = np.mean(arr1, axis = 0)\n",
    "print(f\"Mean is :{res2}\")\n",
    "\n",
    "print(\"-\" * 60)\n",
    "# calculate the mean along horzontal axis\n",
    "res3 = np.mean(arr1, axis = 1)\n",
    "print(f\"Mean is :{res3}\")\n",
    "\n"
   ]
  },
  {
   "cell_type": "code",
   "execution_count": 14,
   "id": "b82ac6ac",
   "metadata": {},
   "outputs": [
    {
     "name": "stdout",
     "output_type": "stream",
     "text": [
      "marks :[78 67 89 93 75]\n",
      "Standard Deviation :9.457272334029511\n"
     ]
    }
   ],
   "source": [
    "# standard deviation\n",
    "\n",
    "marks = np.array([78, 67, 89, 93, 75])\n",
    "print(f\"marks :{marks}\")\n",
    "\n",
    "std_marks = np.std(marks)\n",
    "print(f\"Standard Deviation :{std_marks}\")"
   ]
  },
  {
   "cell_type": "code",
   "execution_count": 21,
   "id": "404236a2",
   "metadata": {},
   "outputs": [
    {
     "name": "stdout",
     "output_type": "stream",
     "text": [
      "arr1 :\n",
      "[[ 2  5  9]\n",
      " [ 3  8 11]\n",
      " [ 4  6  7]]\n",
      "------------------------------------------------------------\n",
      "res1 :2.7666443551086073\n",
      "------------------------------------------------------------\n",
      "std is :[0.81649658 1.24721913 1.63299316]\n",
      "------------------------------------------------------------\n",
      "std is :[2.86744176 3.29983165 1.24721913]\n"
     ]
    }
   ],
   "source": [
    "# Standard Deviation 2D array\n",
    "\n",
    "arr1 = np.array([[2, 5, 9], \n",
    "                 [3, 8, 11], \n",
    "                 [4, 6, 7]])\n",
    "\n",
    "print(f\"arr1 :\\n{arr1}\")\n",
    "\n",
    "print('-' * 60)\n",
    "res1 = np.std(arr1)\n",
    "print(f\"res1 :{res1}\")\n",
    "\n",
    "print('-' * 60)\n",
    "# vertical\n",
    "res2 = np.std(arr1, axis = 0)\n",
    "print(f\"std is :{res2}\")\n",
    "\n",
    "print('-' * 60)\n",
    "# horizontal\n",
    "res3 = np.std(arr1, axis = 1)\n",
    "print(f\"std is :{res3}\")"
   ]
  },
  {
   "cell_type": "code",
   "execution_count": 34,
   "id": "0cb21617",
   "metadata": {},
   "outputs": [
    {
     "name": "stdout",
     "output_type": "stream",
     "text": [
      "arr1 :[1 2 3 4 5]\n",
      "3.0\n",
      "2.0\n",
      "5.5\n"
     ]
    }
   ],
   "source": [
    "# precentile\n",
    "\n",
    "arr1 = np.array([1, 2, 3, 4, 5])\n",
    "print(f\"arr1 :{arr1}\")\n",
    "\n",
    "# calculate the 25th percentile of the array\n",
    "res1 = np.percentile(arr1, 50)\n",
    "print(res1)\n",
    "\n",
    "res1 = np.percentile(arr1, 25)\n",
    "print(res1)\n",
    "\n",
    "arr2 = np.array([1, 3, 5, 7, 9, 11, 13, 15, 17, 19])\n",
    "\n",
    "res3 = np.percentile(arr2, 25)\n",
    "print(res3)"
   ]
  },
  {
   "cell_type": "code",
   "execution_count": 39,
   "id": "6376409f",
   "metadata": {},
   "outputs": [
    {
     "name": "stdout",
     "output_type": "stream",
     "text": [
      "arr1 :[22  6  9 15 17 22 65 10 62]\n",
      "Min Val :6\n",
      "Max Val :65\n"
     ]
    }
   ],
   "source": [
    "# max and  min functions\n",
    "\n",
    "arr1  = np.array([22, 6, 9, 15, 17, 22, 65, 10, 62])\n",
    "print(f\"arr1 :{arr1}\")\n",
    "\n",
    "print(f\"Min Val :{np.min(arr1)}\")\n",
    "\n",
    "print(f\"Max Val :{np.max(arr1)}\")\n",
    "\n"
   ]
  }
 ],
 "metadata": {
  "kernelspec": {
   "display_name": "Python 3 (ipykernel)",
   "language": "python",
   "name": "python3"
  },
  "language_info": {
   "codemirror_mode": {
    "name": "ipython",
    "version": 3
   },
   "file_extension": ".py",
   "mimetype": "text/x-python",
   "name": "python",
   "nbconvert_exporter": "python",
   "pygments_lexer": "ipython3",
   "version": "3.11.4"
  }
 },
 "nbformat": 4,
 "nbformat_minor": 5
}
