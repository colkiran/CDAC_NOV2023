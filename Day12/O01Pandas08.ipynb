{
 "cells": [
  {
   "cell_type": "code",
   "execution_count": 5,
   "id": "92b80055",
   "metadata": {},
   "outputs": [
    {
     "name": "stdout",
     "output_type": "stream",
     "text": [
      "arr1 :[1 2 3 4 5]\n",
      "arr2 :[ 6  7  8  9 10]\n",
      "------------------------------------------------------------\n",
      "arr3 :[ 7  9 11 13 15]\n",
      "------------------------------------------------------------\n",
      "arr4 :[ 7  9 11 13 15]\n"
     ]
    }
   ],
   "source": [
    "import numpy as np\n",
    "\n",
    "arr1 = np.array([1, 2, 3, 4, 5])\n",
    "arr2 = np.array([6, 7, 8, 9, 10])\n",
    "\n",
    "# + operator\n",
    "\n",
    "print(f\"arr1 :{arr1}\")\n",
    "print(f\"arr2 :{arr2}\")\n",
    "\n",
    "print(\"-\" * 60)\n",
    "arr3 = arr1 + arr2\n",
    "\n",
    "print(f\"arr3 :{arr3}\")\n",
    "\n",
    "print(\"-\" * 60)\n",
    "arr4 = np.add(arr1, arr2)\n",
    "\n",
    "print(f\"arr4 :{arr4}\")\n"
   ]
  },
  {
   "cell_type": "code",
   "execution_count": 9,
   "id": "9d7ad4a2",
   "metadata": {},
   "outputs": [
    {
     "name": "stdout",
     "output_type": "stream",
     "text": [
      "arr1 :[10 11 12 13 14]\n",
      "arr2 :[4 5 6 7 8]\n",
      "------------------------------------------------------------\n",
      "arr3 :[6 6 6 6 6]\n",
      "------------------------------------------------------------\n",
      "arr4 :[6 6 6 6 6]\n"
     ]
    }
   ],
   "source": [
    "arr1 = np.array([10, 11, 12, 13, 14])\n",
    "arr2 = np.array([4, 5, 6, 7, 8])\n",
    "\n",
    "print(f\"arr1 :{arr1}\")\n",
    "print(f\"arr2 :{arr2}\")\n",
    "\n",
    "# - operator\n",
    "print(\"-\" * 60)\n",
    "arr3 = arr1 - arr2\n",
    "print(f\"arr3 :{arr3}\")\n",
    "\n",
    "print(\"-\" * 60)\n",
    "arr4 = np.subtract(arr1, arr2)\n",
    "\n",
    "print(f\"arr4 :{arr4}\")\n"
   ]
  },
  {
   "cell_type": "code",
   "execution_count": 14,
   "id": "ffa77386",
   "metadata": {},
   "outputs": [
    {
     "name": "stdout",
     "output_type": "stream",
     "text": [
      "arr1 :[1 2 3 4 5]\n",
      "arr2 :[ 2  4  6  8 10]\n",
      "------------------------------------------------------------\n",
      "arr3 :[ 2  8 18 32 50]\n",
      "------------------------------------------------------------\n",
      "arr4 :[ 2  8 18 32 50]\n"
     ]
    }
   ],
   "source": [
    "arr1 = np.array([1, 2, 3, 4, 5])\n",
    "arr2 = np.array([2, 4, 6, 8 ,10])\n",
    "\n",
    "print(f\"arr1 :{arr1}\")\n",
    "print(f\"arr2 :{arr2}\")\n",
    "\n",
    "print(\"-\" * 60)\n",
    "arr3 = arr1 * arr2\n",
    "print(f\"arr3 :{arr3}\")\n",
    "\n",
    "print(\"-\" * 60)\n",
    "arr4 = np.multiply(arr1, arr2)\n",
    "print(f\"arr4 :{arr4}\")\n",
    "\n",
    "\n"
   ]
  },
  {
   "cell_type": "code",
   "execution_count": 19,
   "id": "68f779bb",
   "metadata": {},
   "outputs": [
    {
     "name": "stdout",
     "output_type": "stream",
     "text": [
      "arr1 :[10 20 30 40 50]\n",
      "arr2 :[1 2 3 4 5]\n",
      "------------------------------------------------------------\n",
      "arr3 :[10. 10. 10. 10. 10.]\n",
      "------------------------------------------------------------\n",
      "arr4 :[10. 10. 10. 10. 10.]\n"
     ]
    }
   ],
   "source": [
    "arr1 = np.array([10, 20, 30, 40, 50])\n",
    "arr2 = np.array([1, 2, 3, 4, 5])\n",
    "\n",
    "print(f\"arr1 :{arr1}\")\n",
    "print(f\"arr2 :{arr2}\")\n",
    "\n",
    "print(\"-\" * 60)\n",
    "arr3 = arr1 / arr2\n",
    "print(f\"arr3 :{arr3}\")\n",
    "\n",
    "print(\"-\" * 60)\n",
    "arr4 = np.divide(arr1, arr2)\n",
    "print(f\"arr4 :{arr4}\")\n",
    "      "
   ]
  },
  {
   "cell_type": "code",
   "execution_count": 22,
   "id": "7690589a",
   "metadata": {},
   "outputs": [
    {
     "name": "stdout",
     "output_type": "stream",
     "text": [
      "arr1 :[1 2 3 4 5]\n",
      "------------------------------------------------------------\n",
      "arr2 :[ 1  4  9 16 25]\n"
     ]
    }
   ],
   "source": [
    "arr1 = np.array([1, 2, 3, 4, 5])\n",
    "print(f\"arr1 :{arr1}\")\n",
    "\n",
    "print(\"-\" * 60)\n",
    "arr2 = arr1 ** 2\n",
    "print(f\"arr2 :{arr2}\")\n"
   ]
  },
  {
   "cell_type": "code",
   "execution_count": 28,
   "id": "b2096b61",
   "metadata": {},
   "outputs": [
    {
     "name": "stdout",
     "output_type": "stream",
     "text": [
      "arr1 :[10 20 30]\n",
      "------------------------------------------------------------\n",
      "arr3 :[1 0 2]\n",
      "------------------------------------------------------------\n",
      "arr4 :[1 0 2]\n"
     ]
    }
   ],
   "source": [
    "arr1 = np.array([10, 20, 30])\n",
    "arr2 = np.array([3, 4, 7])\n",
    "\n",
    "print(f\"arr1 :{arr1}\")\n",
    "# % operator\n",
    "print(\"-\" * 60)\n",
    "arr3 = arr1 % arr2\n",
    "print(f\"arr3 :{arr3}\")\n",
    "\n",
    "print(\"-\" * 60)\n",
    "arr4 = np.mod(arr1, arr2)\n",
    "\n",
    "print(f\"arr4 :{arr4}\")"
   ]
  },
  {
   "cell_type": "code",
   "execution_count": 33,
   "id": "037ec2d8",
   "metadata": {},
   "outputs": [
    {
     "name": "stdout",
     "output_type": "stream",
     "text": [
      "np.array() :[1 2 3 4 5]\n",
      "------------------------------------------------------------\n",
      "np.zeros() :\n",
      "[[0. 0. 0.]\n",
      " [0. 0. 0.]\n",
      " [0. 0. 0.]]\n",
      "------------------------------------------------------------\n",
      "np.ones() :\n",
      "[[1. 1. 1. 1.]\n",
      " [1. 1. 1. 1.]]\n"
     ]
    }
   ],
   "source": [
    "# array creation Functions\n",
    "\n",
    "arr1 = np.array([1, 2, 3, 4, 5])\n",
    "print(f\"np.array() :{arr1}\")\n",
    "\n",
    "print(\"-\" * 60)\n",
    "\n",
    "arr2 = np.zeros([3, 3])\n",
    "print(f\"np.zeros() :\\n{arr2}\")\n",
    "\n",
    "print(\"-\" * 60)\n",
    "\n",
    "arr3 = np.ones([2, 4])\n",
    "print(f\"np.ones() :\\n{arr3}\")"
   ]
  },
  {
   "cell_type": "code",
   "execution_count": 40,
   "id": "5dab0a98",
   "metadata": {},
   "outputs": [
    {
     "name": "stdout",
     "output_type": "stream",
     "text": [
      "arr1 :[ 2  4  6  7  8 10]\n",
      "------------------------------------------------------------\n",
      "arr2 :\n",
      "[[ 2  4  6]\n",
      " [ 7  8 10]]\n",
      "------------------------------------------------------------\n",
      "arr3 :\n",
      "[[ 2  4]\n",
      " [ 6  7]\n",
      " [ 8 10]]\n",
      "------------------------------------------------------------\n",
      "arr4 :\n",
      "[[ 2  7]\n",
      " [ 4  8]\n",
      " [ 6 10]]\n"
     ]
    }
   ],
   "source": [
    "# array manipulation  functions\n",
    "\n",
    "arr1 = np.array([2, 4, 6, 7, 8, 10])\n",
    "print(f\"arr1 :{arr1}\")\n",
    "\n",
    "print(\"-\" * 60)\n",
    "arr2 = np.reshape(arr1, (2, 3))\n",
    "print(f\"arr2 :\\n{arr2}\")\n",
    "\n",
    "print(\"-\" * 60)\n",
    "arr3 = np.reshape(arr2, (3, 2))\n",
    "print(f\"arr3 :\\n{arr3}\")\n",
    "\n",
    "print(\"-\" * 60)\n",
    "arr4 = np.transpose(arr2)\n",
    "print(f\"arr4 :\\n{arr4}\")\n",
    "\n"
   ]
  },
  {
   "cell_type": "code",
   "execution_count": 44,
   "id": "1832cf0e",
   "metadata": {},
   "outputs": [
    {
     "name": "stdout",
     "output_type": "stream",
     "text": [
      "arr1 :[1 2 3 4 5]\n",
      "arr2 :[ 4  9 16 25 36]\n",
      "------------------------------------------------------------\n",
      "arr3 :[ 5 11 19 29 41]\n",
      "------------------------------------------------------------\n",
      "arr4 :[ 3  7 13 21 31]\n",
      "------------------------------------------------------------\n",
      "arr5 :[2. 3. 4. 5. 6.]\n"
     ]
    }
   ],
   "source": [
    "# array Mathematical fnctions\n",
    "\n",
    "arr1 = np.array([1, 2, 3, 4, 5])\n",
    "arr2 = np.array([4, 9, 16, 25, 36])\n",
    "\n",
    "print(f\"arr1 :{arr1}\")\n",
    "print(f\"arr2 :{arr2}\")\n",
    "\n",
    "print(\"-\" * 60)\n",
    "# Addition\n",
    "arr3 = np.add(arr1, arr2)\n",
    "print(f\"arr3 :{arr3}\")\n",
    "\n",
    "print(\"-\" * 60)\n",
    "# Subtract\n",
    "arr4 = np.subtract(arr2, arr1)\n",
    "print(f\"arr4 :{arr4}\")\n",
    "\n",
    "print(\"-\" * 60)\n",
    "# sqrt function\n",
    "arr5 = np.sqrt(arr2)\n",
    "print(f\"arr5 :{arr5}\")\n"
   ]
  },
  {
   "cell_type": "code",
   "execution_count": 53,
   "id": "294c4614",
   "metadata": {},
   "outputs": [
    {
     "name": "stdout",
     "output_type": "stream",
     "text": [
      "marks :[76 82 87 60 93]\n",
      "------------------------------------------------------------\n",
      "arr2 :79.6\n",
      "------------------------------------------------------------\n",
      "arr3 :82.0\n",
      "------------------------------------------------------------\n",
      "Minimum Value :60\n",
      "------------------------------------------------------------\n",
      "Maximum Value :93\n"
     ]
    }
   ],
   "source": [
    "# Statiscal Functions\n",
    "\n",
    "marks = np.array([76, 82, 87, 60, 93])\n",
    "print(f\"marks :{marks}\")\n",
    "\n",
    "# Mean\n",
    "print(\"-\" * 60)\n",
    "arr2 = np.mean(marks)\n",
    "print(f\"arr2 :{arr2}\")\n",
    "\n",
    "# median\n",
    "print(\"-\" * 60)\n",
    "arr3 = np.median(marks)\n",
    "print(f\"arr3 :{arr3}\")\n",
    "\n",
    "# Max and Min\n",
    "print(\"-\" * 60)\n",
    "min_val = np.min(marks)\n",
    "print(f\"Minimum Value :{min_val}\")\n",
    "\n",
    "print(\"-\" * 60)\n",
    "max_val = np.max(marks)\n",
    "print(f\"Maximum Value :{max_val}\")\n",
    "    "
   ]
  },
  {
   "cell_type": "code",
   "execution_count": 62,
   "id": "18cecd99",
   "metadata": {},
   "outputs": [
    {
     "name": "stdout",
     "output_type": "stream",
     "text": [
      "arr1 :\n",
      "[[1 2 3]\n",
      " [4 5 6]]\n",
      "------------------------------------------------------------\n",
      "arr2 :\n",
      "[[1. 2. 3.]\n",
      " [4. 5. 6.]]\n"
     ]
    }
   ],
   "source": [
    "# input and output functions\n",
    "\n",
    "arr1 = np.array([[1, 2, 3], [4, 5, 6]])\n",
    "print(F\"arr1 :\\n{arr1}\")\n",
    "np.savetxt(\"C:/Users/Kiran/CDAC/myarray.txt\", arr1)\n",
    "\n",
    "print(\"-\" * 60)\n",
    "\n",
    "arr2 = np.loadtxt(\"C:/Users/Kiran/CDAC/myarray.txt\")\n",
    "print(f\"arr2 :\\n{arr2}\")\n"
   ]
  },
  {
   "cell_type": "code",
   "execution_count": null,
   "id": "ad441f9f",
   "metadata": {},
   "outputs": [],
   "source": []
  }
 ],
 "metadata": {
  "kernelspec": {
   "display_name": "Python 3 (ipykernel)",
   "language": "python",
   "name": "python3"
  },
  "language_info": {
   "codemirror_mode": {
    "name": "ipython",
    "version": 3
   },
   "file_extension": ".py",
   "mimetype": "text/x-python",
   "name": "python",
   "nbconvert_exporter": "python",
   "pygments_lexer": "ipython3",
   "version": "3.11.4"
  }
 },
 "nbformat": 4,
 "nbformat_minor": 5
}
