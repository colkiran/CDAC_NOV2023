{
 "cells": [
  {
   "cell_type": "code",
   "execution_count": 7,
   "id": "2cfe5e14",
   "metadata": {},
   "outputs": [
    {
     "name": "stdout",
     "output_type": "stream",
     "text": [
      "angles :[0 1 2]\n",
      "------------------------------------------------------------\n",
      "Sine Values :[0.         0.84147098 0.90929743]\n",
      "------------------------------------------------------------\n",
      "Inverse sine :[0.         1.57079633        nan]\n"
     ]
    },
    {
     "name": "stderr",
     "output_type": "stream",
     "text": [
      "C:\\Users\\Kiran\\AppData\\Local\\Temp\\ipykernel_32940\\2244841037.py:13: RuntimeWarning: invalid value encountered in arcsin\n",
      "  inv_sine = np.arcsin(angles)\n"
     ]
    }
   ],
   "source": [
    "# MATH Functions\n",
    "    \n",
    "import numpy as np\n",
    "\n",
    "angles = np.array([0, 1, 2])\n",
    "print(f\"angles :{angles}\")\n",
    "\n",
    "print(\"-\" * 60)\n",
    "sine_values  = np.sin(angles)\n",
    "print(f\"Sine Values :{sine_values}\")\n",
    "\n",
    "print(\"-\" * 60)\n",
    "inv_sine = np.arcsin(angles)\n",
    "print(f\"Inverse sine :{inv_sine}\")"
   ]
  },
  {
   "cell_type": "code",
   "execution_count": 15,
   "id": "5cdfe416",
   "metadata": {},
   "outputs": [
    {
     "name": "stdout",
     "output_type": "stream",
     "text": [
      "Initial angle in radians :1.57079633\n",
      "Angle in degrees :90.0000001836389\n",
      "Angle in  radians :1.57079633\n"
     ]
    }
   ],
   "source": [
    "# degrees and radians\n",
    "angle = 1.57079633\n",
    "print(f\"Initial angle in radians :{angle}\")\n",
    "\n",
    "# convert the angle to degrees\n",
    "ang_degree = np.degrees(angle)\n",
    "print(f\"Angle in degrees :{ang_degree}\")\n",
    "\n",
    "# ang_degree = 90\n",
    "# convert the angle back to radians\n",
    "ang_radian = np.radians(ang_degree)\n",
    "print(f\"Angle in  radians :{ang_radian}\")"
   ]
  },
  {
   "cell_type": "code",
   "execution_count": 20,
   "id": "948c2e58",
   "metadata": {},
   "outputs": [
    {
     "name": "stdout",
     "output_type": "stream",
     "text": [
      "arr1 :[1.23456 2.34567 3.45678 4.56789]\n",
      "Rounded Value :[1.23 2.35 3.46 4.57]\n",
      "---------------------------floor----------------------------\n",
      "Array after Floor :[1. 2. 3. 4.]\n",
      "----------------------------ceil----------------------------\n",
      "Arrat after Ciel :[2. 3. 4. 5.]\n"
     ]
    }
   ],
   "source": [
    "# Round functions\n",
    "arr1  = np.array([1.23456, 2.34567, 3.45678, 4.56789])\n",
    "print(f\"arr1 :{arr1}\")\n",
    "\n",
    "# round the array into two decimal places\n",
    "rnd_val = np.round(arr1, 2)\n",
    "print(f\"Rounded Value :{rnd_val}\")\n",
    "\n",
    "print(\"floor\".center(60, \"-\"))\n",
    "print(f\"Array after Floor :{np.floor(arr1)}\")\n",
    "\n",
    "print(\"ceil\".center(60, \"-\"))\n",
    "print(f\"Arrat after Ciel :{np.ceil(arr1)}\")\n"
   ]
  }
 ],
 "metadata": {
  "kernelspec": {
   "display_name": "Python 3 (ipykernel)",
   "language": "python",
   "name": "python3"
  },
  "language_info": {
   "codemirror_mode": {
    "name": "ipython",
    "version": 3
   },
   "file_extension": ".py",
   "mimetype": "text/x-python",
   "name": "python",
   "nbconvert_exporter": "python",
   "pygments_lexer": "ipython3",
   "version": "3.11.4"
  }
 },
 "nbformat": 4,
 "nbformat_minor": 5
}
