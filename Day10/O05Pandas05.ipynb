{
 "cells": [
  {
   "cell_type": "code",
   "execution_count": 4,
   "id": "8c5659c9",
   "metadata": {},
   "outputs": [
    {
     "name": "stdout",
     "output_type": "stream",
     "text": [
      "[[1 2 3]\n",
      " [4 5 6]]\n"
     ]
    }
   ],
   "source": [
    "import numpy as np\n",
    "\n",
    "arr1 = np.array([[1, 2, 3], \n",
    "                 [4, 5, 6]])\n",
    "print(arr1)\n",
    "\n",
    "np.save(\"myfile.npy\", arr1)"
   ]
  },
  {
   "cell_type": "code",
   "execution_count": 8,
   "id": "3970a860",
   "metadata": {},
   "outputs": [
    {
     "name": "stdout",
     "output_type": "stream",
     "text": [
      "[array([[1, 2, 3],\n",
      "       [4, 5, 6]])]\n"
     ]
    }
   ],
   "source": [
    "# load data saves in numpy array\n",
    "loaded_array= np.load('myfile.npy')\n",
    "print([loaded_array])"
   ]
  },
  {
   "cell_type": "code",
   "execution_count": 11,
   "id": "dd44f222",
   "metadata": {},
   "outputs": [],
   "source": [
    "# save to text file \n",
    "arr1 = np.array([[1, 4, 5],\n",
    "                 [6, 7, 8]])\n",
    "\n",
    "np.savetxt(\"file3.txt\", arr1)\n"
   ]
  },
  {
   "cell_type": "code",
   "execution_count": 17,
   "id": "80a88aaa",
   "metadata": {},
   "outputs": [
    {
     "name": "stdout",
     "output_type": "stream",
     "text": [
      "[[1. 4. 5.]\n",
      " [6. 7. 8.]]\n"
     ]
    }
   ],
   "source": [
    "# load from a txt file\n",
    "\n",
    "arr1 = np.loadtxt(\"C:\\\\Users\\\\Kiran\\\\file3.txt\")\n",
    "\n",
    "print(arr1)"
   ]
  }
 ],
 "metadata": {
  "kernelspec": {
   "display_name": "Python 3 (ipykernel)",
   "language": "python",
   "name": "python3"
  },
  "language_info": {
   "codemirror_mode": {
    "name": "ipython",
    "version": 3
   },
   "file_extension": ".py",
   "mimetype": "text/x-python",
   "name": "python",
   "nbconvert_exporter": "python",
   "pygments_lexer": "ipython3",
   "version": "3.11.4"
  }
 },
 "nbformat": 4,
 "nbformat_minor": 5
}
